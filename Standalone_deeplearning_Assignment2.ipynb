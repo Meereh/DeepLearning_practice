{
 "cells": [
  {
   "cell_type": "code",
   "execution_count": 1,
   "metadata": {},
   "outputs": [],
   "source": [
    "import torch\n",
    "import torchvision\n",
    "import torchvision.transforms as transforms\n",
    "import torch.nn as nn\n",
    "import torch.nn.functional as F\n",
    "import torch.optim as optim\n",
    "import argparse\n",
    "import numpy as np"
   ]
  },
  {
   "cell_type": "markdown",
   "metadata": {},
   "source": [
    "## Data Preparation"
   ]
  },
  {
   "cell_type": "code",
   "execution_count": 2,
   "metadata": {},
   "outputs": [
    {
     "name": "stdout",
     "output_type": "stream",
     "text": [
      "Files already downloaded and verified\n",
      "Files already downloaded and verified\n"
     ]
    }
   ],
   "source": [
    "transform = transforms.Compose(\n",
    "    [transforms.ToTensor(),\n",
    "     transforms.Normalize((0.5, 0.5, 0.5), (0.5, 0.5, 0.5))])\n",
    "\n",
    "trainset = torchvision.datasets.CIFAR10(root='./data', train=True,\n",
    "                                        download=True, transform=transform)\n",
    "trainset, valset = torch.utils.data.random_split(trainset, [40000, 10000])\n",
    "testset = torchvision.datasets.CIFAR10(root='./data', train=False,\n",
    "                                       download=True, transform=transform)\n",
    "\n",
    "\n",
    "trainloader = torch.utils.data.DataLoader(trainset, batch_size=4,\n",
    "                                          shuffle=True, num_workers=2)\n",
    "valloader = torch.utils.data.DataLoader(valset, batch_size=4, \n",
    "                                        shuffle=False)\n",
    "testloader = torch.utils.data.DataLoader(testset, batch_size=4,\n",
    "                                         shuffle=False, num_workers=2)\n",
    "\n",
    "classes = ('plane', 'car', 'bird', 'cat',\n",
    "           'deer', 'dog', 'frog', 'horse', 'ship', 'truck')"
   ]
  },
  {
   "cell_type": "code",
   "execution_count": 3,
   "metadata": {},
   "outputs": [
    {
     "data": {
      "text/plain": [
       "<Figure size 640x480 with 1 Axes>"
      ]
     },
     "metadata": {},
     "output_type": "display_data"
    },
    {
     "name": "stdout",
     "output_type": "stream",
     "text": [
      "plane   cat plane  ship\n"
     ]
    }
   ],
   "source": [
    "import matplotlib.pyplot as plt\n",
    "import numpy as np\n",
    "\n",
    "# functions to show an image\n",
    "\n",
    "\n",
    "def imshow(img):\n",
    "    img = img / 2 + 0.5     # unnormalize\n",
    "    npimg = img.numpy()\n",
    "    plt.imshow(np.transpose(npimg, (1, 2, 0)))\n",
    "    plt.show()\n",
    "\n",
    "\n",
    "# get some random training images\n",
    "dataiter = iter(trainloader)\n",
    "images, labels = dataiter.next()\n",
    "\n",
    "# show images\n",
    "imshow(torchvision.utils.make_grid(images))\n",
    "# print labels\n",
    "print(' '.join('%5s' % classes[labels[j]] for j in range(4)))"
   ]
  },
  {
   "cell_type": "markdown",
   "metadata": {},
   "source": [
    "## Model Architecture"
   ]
  },
  {
   "cell_type": "code",
   "execution_count": 4,
   "metadata": {},
   "outputs": [],
   "source": [
    "class MLP(nn.Module):\n",
    "    def __init__(self, in_dim, out_dim, hid_dim, n_layer, act):\n",
    "        super(MLP, self).__init__()\n",
    "        self.in_dim = in_dim\n",
    "        self.out_dim = out_dim\n",
    "        self.hid_dim = hid_dim\n",
    "        self.n_layer = n_layer\n",
    "        self.act = act\n",
    "        \n",
    "        self.fc = nn.Linear(self.in_dim, self.hid_dim)\n",
    "        self.linears = nn.ModuleList()\n",
    "        \n",
    "        for i in range(self.n_layer-1):\n",
    "            self.linears.append(nn.Linear(self.hid_dim, self.hid_dim))\n",
    "        self.fc2 = nn.Linear(self.hid_dim, self.out_dim)\n",
    "        \n",
    "        if self.act == 'relu':\n",
    "            self.act = nn.ReLU()\n",
    "          \n",
    "    def forward(self, x):\n",
    "        x = self.act(self.fc(x))\n",
    "        for fc in self.linears:\n",
    "            x = self.act(fc(x))\n",
    "        x = self.fc2(x)\n",
    "        return x\n",
    "      \n",
    "net = MLP(3072, 10, 100, 4, 'relu')"
   ]
  },
  {
   "cell_type": "markdown",
   "metadata": {},
   "source": [
    "## Define Experiment"
   ]
  },
  {
   "cell_type": "code",
   "execution_count": 5,
   "metadata": {},
   "outputs": [],
   "source": [
    "def experiment(args):\n",
    "  \n",
    "    net = MLP(args.in_dim, args.out_dim, args.hid_dim, args.n_layer, args.act)\n",
    "    \n",
    "    \n",
    "    device = torch.device(\"cuda:0\" if torch.cuda.is_available() else \"cpu\")\n",
    "\n",
    "    # Assuming that we are on a CUDA machine, this should print a CUDA device:\n",
    "\n",
    "    print(device)\n",
    "    net.to(device)\n",
    "    #net.cuda()\n",
    "    #print(net)\n",
    "    \n",
    "    list_epoch = [] \n",
    "    list_train_loss = []\n",
    "    list_val_loss = []\n",
    "    list_acc = []\n",
    "    list_acc_epoch = []\n",
    "\n",
    "    criterion = nn.CrossEntropyLoss()\n",
    "    optimizer = optim.SGD(net.parameters(), lr=args.lr, momentum=args.mm)\n",
    "    \n",
    "    for epoch in range(args.epoch):  # loop over the dataset multiple times\n",
    "    \n",
    "        # ==== Train ===== #\n",
    "        net.train()\n",
    "        optimizer.zero_grad()\n",
    "        \n",
    "        running_loss = 0.0\n",
    "        train_loss = 0.0\n",
    "        for i, data in enumerate(trainloader, 0):\n",
    "            # get the inputs\n",
    "            inputs, labels = data\n",
    "            inputs = inputs.view(-1, 3072)\n",
    "            \n",
    "            #inputs = inputs.cuda()\n",
    "            #labels = labels.cuda()\n",
    "            inputs, labels = inputs.to(device), labels.to(device)\n",
    "\n",
    "            # zero the parameter gradients\n",
    "            optimizer.zero_grad()\n",
    "\n",
    "            # forward + backward + optimize\n",
    "            outputs = net(inputs)\n",
    "            loss = criterion(outputs, labels)\n",
    "            loss.backward()\n",
    "            optimizer.step()\n",
    "\n",
    "            # print statistics\n",
    "            running_loss += loss.item()\n",
    "            train_loss += loss.item()\n",
    "            \n",
    "            list_epoch.append(i)\n",
    "            list_train_loss.append(train_loss)\n",
    "            if i % 2000 == 1999:    # print every 2000 mini-batches\n",
    "                print('[%d, %5d] loss: %.3f' %\n",
    "                      (epoch + 1, i + 1, running_loss / 2000))\n",
    "                running_loss = 0.0\n",
    "                \n",
    "\n",
    "        # ==== Validation ====== #\n",
    "        net.eval()\n",
    "        optimizer.zero_grad()\n",
    "        \n",
    "        correct = 0\n",
    "        total = 0\n",
    "        val_loss = 0 ########\n",
    "        with torch.no_grad():\n",
    "            for data in valloader:\n",
    "                images, labels = data\n",
    "                images = images.view(-1, 3072)\n",
    "                \n",
    "                ################################\n",
    "                #images = images.cuda()\n",
    "                #labels = labels.cuda()\n",
    "                images, labels = inputs.to(device), labels.to(device)\n",
    "                \n",
    "                outputs = net(images)\n",
    "\n",
    "                loss = criterion(outputs, labels)\n",
    "                val_loss += loss.item()\n",
    "                \n",
    "                list_val_loss.append(val_loss)\n",
    "                _, predicted = torch.max(outputs.data, 1)\n",
    "                total += labels.size(0)\n",
    "                correct += (predicted == labels).sum().item()\n",
    "\n",
    "            val_loss = val_loss / len(valloader)\n",
    "            val_acc = 100 * correct / total\n",
    "            \n",
    "        print('Epoch {}, Train Loss: {}, Val Loss: {}, Val Acc: {}'.format(epoch, train_loss, val_loss, val_acc ))\n",
    "\n",
    "\n",
    "    # ===== Evaluation ===== #\n",
    "    net.eval()\n",
    "    optimizer.zero_grad()\n",
    "    \n",
    "    correct = 0\n",
    "    total = 0\n",
    "    with torch.no_grad():\n",
    "        for data in testloader:\n",
    "            images, labels = data\n",
    "            images = images.view(-1, 3072)\n",
    "            \n",
    "            images, labels = inputs.to(device), labels.to(device)\n",
    "            #images = images.cuda()\n",
    "            #labels = labels.cuda()\n",
    "\n",
    "            outputs = net(images)\n",
    "            _, predicted = torch.max(outputs.data, 1)\n",
    "            total += labels.size(0)\n",
    "            correct += (predicted == labels).sum().item()\n",
    "\n",
    "        test_acc = 100 * correct / total\n",
    "            \n",
    "    return train_loss, val_loss, val_acc, test_acc\n",
    "    "
   ]
  },
  {
   "cell_type": "markdown",
   "metadata": {},
   "source": [
    "## Experiment"
   ]
  },
  {
   "cell_type": "code",
   "execution_count": null,
   "metadata": {},
   "outputs": [
    {
     "name": "stdout",
     "output_type": "stream",
     "text": [
      "cuda:0\n",
      "[1,  2000] loss: 2.188\n",
      "[1,  4000] loss: 1.889\n",
      "[1,  6000] loss: 1.768\n",
      "[1,  8000] loss: 1.721\n",
      "[1, 10000] loss: 1.673\n",
      "Epoch 0, Train Loss: 18477.4324080348, Val Loss: 3.0475153408050537, Val Acc: 10.29\n",
      "[2,  2000] loss: 1.632\n",
      "[2,  4000] loss: 1.607\n",
      "[2,  6000] loss: 1.600\n",
      "[2,  8000] loss: 1.574\n",
      "[2, 10000] loss: 1.557\n",
      "Epoch 1, Train Loss: 15938.930830597878, Val Loss: 2.8248177763938904, Val Acc: 9.73\n",
      "(15938.930830597878, 2.8248177763938904, 9.73, 10.03)\n",
      "cuda:0\n",
      "[1,  2000] loss: 2.224\n",
      "[1,  4000] loss: 1.917\n",
      "[1,  6000] loss: 1.788\n",
      "[1,  8000] loss: 1.681\n",
      "[1, 10000] loss: 1.654\n",
      "Epoch 0, Train Loss: 18530.6870226264, Val Loss: 3.595699433517456, Val Acc: 10.52\n",
      "[2,  2000] loss: 1.602\n",
      "[2,  4000] loss: 1.586\n",
      "[2,  6000] loss: 1.570\n",
      "[2,  8000] loss: 1.547\n",
      "[2, 10000] loss: 1.517\n",
      "Epoch 1, Train Loss: 15643.767507374287, Val Loss: 3.0481335682153703, Val Acc: 10.29\n",
      "(15643.767507374287, 3.0481335682153703, 10.29, 10.07)\n",
      "cuda:0\n",
      "[1,  2000] loss: 2.178\n",
      "[1,  4000] loss: 1.886\n",
      "[1,  6000] loss: 1.750\n",
      "[1,  8000] loss: 1.707\n",
      "[1, 10000] loss: 1.626\n",
      "Epoch 0, Train Loss: 18294.07871297002, Val Loss: 3.1366474583148958, Val Acc: 10.45\n",
      "[2,  2000] loss: 1.584\n",
      "[2,  4000] loss: 1.545\n",
      "[2,  6000] loss: 1.541\n",
      "[2,  8000] loss: 1.501\n",
      "[2, 10000] loss: 1.505\n",
      "Epoch 1, Train Loss: 15353.71845626831, Val Loss: 2.976943616771698, Val Acc: 10.18\n",
      "(15353.71845626831, 2.976943616771698, 10.18, 10.15)\n",
      "cuda:0\n",
      "[1,  2000] loss: 2.301\n",
      "[1,  4000] loss: 2.139\n",
      "[1,  6000] loss: 1.935\n",
      "[1,  8000] loss: 1.834\n",
      "[1, 10000] loss: 1.766\n",
      "Epoch 0, Train Loss: 19950.367281615734, Val Loss: 3.6436704364776613, Val Acc: 9.98\n",
      "[2,  2000] loss: 1.705\n",
      "[2,  4000] loss: 1.679\n",
      "[2,  6000] loss: 1.646\n",
      "[2,  8000] loss: 1.619\n",
      "[2, 10000] loss: 1.579\n",
      "Epoch 1, Train Loss: 16457.14111301303, Val Loss: 3.8355226823091506, Val Acc: 9.74\n",
      "(16457.14111301303, 3.8355226823091506, 9.74, 9.82)\n",
      "cuda:0\n",
      "[1,  2000] loss: 2.294\n",
      "[1,  4000] loss: 2.064\n",
      "[1,  6000] loss: 1.900\n",
      "[1,  8000] loss: 1.830\n",
      "[1, 10000] loss: 1.756\n",
      "Epoch 0, Train Loss: 19689.92402034998, Val Loss: 2.853668532705307, Val Acc: 9.98\n"
     ]
    }
   ],
   "source": [
    "seed = 123\n",
    "np.random.seed(seed)\n",
    "torch.manual_seed(seed)\n",
    "\n",
    "parser = argparse.ArgumentParser()\n",
    "args = parser.parse_args(\"\")\n",
    "\n",
    "\n",
    "args.n_layer = 5\n",
    "args.in_dim = 3072\n",
    "args.out_dim = 10\n",
    "args.hid_dim = 100\n",
    "args.act = 'relu'\n",
    "\n",
    "args.lr = 0.001\n",
    "args.mm = 0.9\n",
    "args.epoch = 2\n",
    "\n",
    "\n",
    "list_var1 = [4, 5, 6]        #hidden layer 수\n",
    "list_var2 = [50, 100, 150]    #dimension\n",
    "\n",
    "for var1 in list_var1:\n",
    "    for var2 in list_var2:\n",
    "        args.n_layer = var1\n",
    "        args.hid_dim = var2\n",
    "        result = experiment(args)\n",
    "        print(result)\n",
    "\n",
    "print(\"Train Finished\")"
   ]
  },
  {
   "cell_type": "markdown",
   "metadata": {},
   "source": [
    "# Report"
   ]
  },
  {
   "cell_type": "code",
   "execution_count": null,
   "metadata": {},
   "outputs": [],
   "source": [
    "fig = plt.figure(figsize=(15,5))\n",
    "\n",
    "# ====== Loss Fluctuation ====== #\n",
    "ax1 = fig.add_subplot(1, 2, 1)\n",
    "ax1.plot(list_epoch, list_train_loss, label='train_loss')\n",
    "ax1.plot(list_epoch, list_val_loss, '--', label='val_loss')\n",
    "ax1.set_xlabel('epoch')\n",
    "ax1.set_ylabel('loss')\n",
    "ax1.grid()\n",
    "ax1.legend()\n",
    "ax1.set_title('epoch vs loss')\n",
    "\n"
   ]
  },
  {
   "cell_type": "markdown",
   "metadata": {},
   "source": [
    "# 질문있습니다~\n"
   ]
  },
  {
   "cell_type": "markdown",
   "metadata": {},
   "source": [
    "사실.. 과제 코드 제대로 못해봤는데요\n",
    "\n",
    "올려주신 시작코드 training이 너무 오래걸려서 ㅜㅜ기다리다가 끝까지 못해봤어요\n",
    "\n",
    "일단 시작코드부터 돌려보고 hyperparameter값들 변경해가면서 accuracy 올리고 그래프도 그려보고싶었는데..\n",
    "\n",
    "너무 느려서? GPU로 제대로 돌고있나?라는 생각이 들었습니당..\n",
    "\n",
    "내일봐요~ ㅜㅜ"
   ]
  },
  {
   "cell_type": "code",
   "execution_count": null,
   "metadata": {},
   "outputs": [],
   "source": []
  }
 ],
 "metadata": {
  "kernelspec": {
   "display_name": "Python 3",
   "language": "python",
   "name": "python3"
  },
  "language_info": {
   "codemirror_mode": {
    "name": "ipython",
    "version": 3
   },
   "file_extension": ".py",
   "mimetype": "text/x-python",
   "name": "python",
   "nbconvert_exporter": "python",
   "pygments_lexer": "ipython3",
   "version": "3.7.0"
  }
 },
 "nbformat": 4,
 "nbformat_minor": 2
}
